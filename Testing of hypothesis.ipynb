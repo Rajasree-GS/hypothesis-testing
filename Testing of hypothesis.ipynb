{
 "cells": [
  {
   "cell_type": "code",
   "execution_count": 7,
   "id": "2627b7a0",
   "metadata": {},
   "outputs": [],
   "source": [
    "import pandas as pd\n",
    "import numpy as np\n",
    "data = pd.read_csv(r\"C:\\Users\\91828\\Downloads\\Sales_add.csv\")"
   ]
  },
  {
   "cell_type": "code",
   "execution_count": 8,
   "id": "43a41f63",
   "metadata": {},
   "outputs": [
    {
     "data": {
      "text/plain": [
       "Month                             0\n",
       "Region                            0\n",
       "Manager                           0\n",
       "Sales_before_digital_add(in $)    0\n",
       "Sales_After_digital_add(in $)     0\n",
       "dtype: int64"
      ]
     },
     "execution_count": 8,
     "metadata": {},
     "output_type": "execute_result"
    }
   ],
   "source": [
    "data.isnull().sum()"
   ]
  },
  {
   "cell_type": "markdown",
   "id": "4f3f6516",
   "metadata": {},
   "source": [
    "# Whether there is any increase in sales after stepping into digital marketing."
   ]
  },
  {
   "cell_type": "code",
   "execution_count": 9,
   "id": "ea89363a",
   "metadata": {},
   "outputs": [
    {
     "data": {
      "text/plain": [
       "Ttest_relResult(statistic=-12.09070525287017, pvalue=6.336667004575778e-11)"
      ]
     },
     "execution_count": 9,
     "metadata": {},
     "output_type": "execute_result"
    }
   ],
   "source": [
    "from scipy.stats import ttest_rel\n",
    "data1=ttest_rel(data[\"Sales_before_digital_add(in $)\"],data[\"Sales_After_digital_add(in $)\"])\n",
    "data1\n"
   ]
  },
  {
   "cell_type": "code",
   "execution_count": 10,
   "id": "be78de66",
   "metadata": {},
   "outputs": [
    {
     "name": "stdout",
     "output_type": "stream",
     "text": [
      "Reject null hypothesis-i.e,There is an increase in sales afte stepping into digital marketing.\n"
     ]
    }
   ],
   "source": [
    "pvalue=data1[1]\n",
    "if pvalue<0.05:\n",
    "    print(\"Reject null hypothesis-i.e,There is an increase in sales afte stepping into digital marketing.\")\n",
    "else:\n",
    "    print(\"Accept null hypothesis-i.e,There is no increase in sales afte stepping into digital marketing.\")"
   ]
  },
  {
   "cell_type": "code",
   "execution_count": 1,
   "id": "22cc97d1",
   "metadata": {},
   "outputs": [
    {
     "name": "stdout",
     "output_type": "stream",
     "text": [
      "t_val = 1.7207429028118775\n"
     ]
    }
   ],
   "source": [
    "import scipy.stats\n",
    "t_val=scipy.stats.t.ppf(1-0.05,21)\n",
    "print(\"t_val =\",t_val)"
   ]
  },
  {
   "cell_type": "code",
   "execution_count": 11,
   "id": "b02c4016",
   "metadata": {},
   "outputs": [
    {
     "name": "stdout",
     "output_type": "stream",
     "text": [
      "Reject H0,there is  increase in sales afterstepping into digital marketing.\n"
     ]
    }
   ],
   "source": [
    "t_testval=abs(data1[0])\n",
    "if (t_testval)>=(t_val):\n",
    "    print(\"Reject H0,there is  increase in sales afterstepping into digital marketing.\")\n",
    "else:\n",
    "    print(\"Retain H0,there is no increase in sales afterstepping into digital marketing.\")"
   ]
  },
  {
   "cell_type": "markdown",
   "id": "abdf1bbc",
   "metadata": {},
   "source": [
    "# We can say that there is a significant increase in sales after doing Digital advertisements."
   ]
  },
  {
   "cell_type": "markdown",
   "id": "ba7ce06a",
   "metadata": {},
   "source": [
    "# 2.Checking whether there is any dependency between the features “Region” and “Manager”"
   ]
  },
  {
   "cell_type": "code",
   "execution_count": 21,
   "id": "7f6b0dd4",
   "metadata": {},
   "outputs": [
    {
     "data": {
      "text/html": [
       "<div>\n",
       "<style scoped>\n",
       "    .dataframe tbody tr th:only-of-type {\n",
       "        vertical-align: middle;\n",
       "    }\n",
       "\n",
       "    .dataframe tbody tr th {\n",
       "        vertical-align: top;\n",
       "    }\n",
       "\n",
       "    .dataframe thead th {\n",
       "        text-align: right;\n",
       "    }\n",
       "</style>\n",
       "<table border=\"1\" class=\"dataframe\">\n",
       "  <thead>\n",
       "    <tr style=\"text-align: right;\">\n",
       "      <th>Manager</th>\n",
       "      <th>Manager - A</th>\n",
       "      <th>Manager - B</th>\n",
       "      <th>Manager - C</th>\n",
       "    </tr>\n",
       "    <tr>\n",
       "      <th>Region</th>\n",
       "      <th></th>\n",
       "      <th></th>\n",
       "      <th></th>\n",
       "    </tr>\n",
       "  </thead>\n",
       "  <tbody>\n",
       "    <tr>\n",
       "      <th>Region - A</th>\n",
       "      <td>4</td>\n",
       "      <td>3</td>\n",
       "      <td>3</td>\n",
       "    </tr>\n",
       "    <tr>\n",
       "      <th>Region - B</th>\n",
       "      <td>4</td>\n",
       "      <td>1</td>\n",
       "      <td>2</td>\n",
       "    </tr>\n",
       "    <tr>\n",
       "      <th>Region - C</th>\n",
       "      <td>1</td>\n",
       "      <td>3</td>\n",
       "      <td>1</td>\n",
       "    </tr>\n",
       "  </tbody>\n",
       "</table>\n",
       "</div>"
      ],
      "text/plain": [
       "Manager     Manager - A  Manager - B  Manager - C\n",
       "Region                                           \n",
       "Region - A            4            3            3\n",
       "Region - B            4            1            2\n",
       "Region - C            1            3            1"
      ]
     },
     "execution_count": 21,
     "metadata": {},
     "output_type": "execute_result"
    }
   ],
   "source": [
    "data_crosstab = pd.crosstab(data[\"Region\"],data[\"Manager\"])\n",
    "data_crosstab"
   ]
  },
  {
   "cell_type": "code",
   "execution_count": 18,
   "id": "2ffd0476",
   "metadata": {},
   "outputs": [],
   "source": [
    "from scipy.stats import chi2_contingency\n",
    "stat, p, dof, expected = chi2_contingency(data_crosstab)"
   ]
  },
  {
   "cell_type": "code",
   "execution_count": 20,
   "id": "f32075a3",
   "metadata": {},
   "outputs": [
    {
     "name": "stdout",
     "output_type": "stream",
     "text": [
      "The Test chi-square value is : 3.050566893424036\n",
      "\n",
      "The p-Value is :  0.5493991051158094\n",
      "\n",
      "The Degree of freedom is : 4\n",
      "\n",
      "\n",
      "We're unable to Reject the Null Hypothesis\n"
     ]
    }
   ],
   "source": [
    "print(f\"The Test chi-square value is : {stat}\")\n",
    "print(f\"\\nThe p-Value is :  {p}\" )\n",
    "print(f\"\\nThe Degree of freedom is : {dof}\")\n",
    "if stat > chi2_critical:\n",
    "    print(f\"We'll reject the Null Hypothesis\")\n",
    "elif stat < chi2_critical:\n",
    "    print (\"\\n\\nWe're unable to Reject the Null Hypothesis\")"
   ]
  },
  {
   "cell_type": "markdown",
   "id": "aa593bf9",
   "metadata": {},
   "source": [
    "There is no dependency between the features “Region” and “Manager”¶"
   ]
  },
  {
   "cell_type": "code",
   "execution_count": null,
   "id": "60c7aa17",
   "metadata": {},
   "outputs": [],
   "source": []
  }
 ],
 "metadata": {
  "kernelspec": {
   "display_name": "Python 3",
   "language": "python",
   "name": "python3"
  },
  "language_info": {
   "codemirror_mode": {
    "name": "ipython",
    "version": 3
   },
   "file_extension": ".py",
   "mimetype": "text/x-python",
   "name": "python",
   "nbconvert_exporter": "python",
   "pygments_lexer": "ipython3",
   "version": "3.8.8"
  }
 },
 "nbformat": 4,
 "nbformat_minor": 5
}
